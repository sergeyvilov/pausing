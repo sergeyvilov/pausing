{
 "cells": [
  {
   "cell_type": "code",
   "execution_count": 11,
   "id": "7155bef3-658b-4b62-a384-9abb8f1170a3",
   "metadata": {},
   "outputs": [],
   "source": [
    "import pandas as pd\n",
    "import numpy as np"
   ]
  },
  {
   "cell_type": "code",
   "execution_count": null,
   "id": "3543e8de-5f6f-40f7-acbc-b406c4ddcecf",
   "metadata": {},
   "outputs": [],
   "source": [
    "project_dir = '/lustre/groups/epigenereg01/workspace/projects/vale/pausing/'"
   ]
  },
  {
   "cell_type": "code",
   "execution_count": 28,
   "id": "c8af5957-f306-4f82-ae3a-360d0549153e",
   "metadata": {},
   "outputs": [],
   "source": [
    "for alg in ('linear_regression', 'random_forest', 'gbm'):\n",
    "    \n",
    "    for model in ('HepG2', 'K562'):\n",
    "        \n",
    "        shap_file_name = f'train_on_{model}_test_on_{model}_shapley_values.csv.gz'\n",
    "\n",
    "        shap_values = pd.read_csv(project_dir + alg + '/' + shap_file_name, index_col=0)\n",
    "\n",
    "        proteins = [x.split('.')[1] if 'chip' in x or 'clip' in x else x for x in shap_values.columns]\n",
    "\n",
    "        shap_values = abs(shap_values)\n",
    "\n",
    "        shap_df = pd.DataFrame({'protein':proteins, 'shap_values_sum':np.sum(shap_values.values,axis=0)})\n",
    "\n",
    "        shap_df = shap_df.groupby('protein').sum().squeeze().sort_values(ascending=False)\n",
    "\n",
    "        shap_df.to_csv(project_dir + f'shap_values_squeezed/{alg}_{model}_shapley_values.csv')"
   ]
  },
  {
   "cell_type": "code",
   "execution_count": null,
   "id": "e8db9b7a-0b23-4ff4-85fb-7a712e79bcb5",
   "metadata": {},
   "outputs": [],
   "source": []
  }
 ],
 "metadata": {
  "kernelspec": {
   "display_name": "Python 3 (ipykernel)",
   "language": "python",
   "name": "python3"
  },
  "language_info": {
   "codemirror_mode": {
    "name": "ipython",
    "version": 3
   },
   "file_extension": ".py",
   "mimetype": "text/x-python",
   "name": "python",
   "nbconvert_exporter": "python",
   "pygments_lexer": "ipython3",
   "version": "3.8.13"
  }
 },
 "nbformat": 4,
 "nbformat_minor": 5
}
